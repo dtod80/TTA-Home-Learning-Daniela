{
 "cells": [
  {
   "cell_type": "code",
   "execution_count": 3,
   "metadata": {},
   "outputs": [
    {
     "name": "stdout",
     "output_type": "stream",
     "text": [
      "7\n",
      "Nice to meet you Daniela!\n",
      "7\n",
      "ups! Looks like you didn't guess the number.\n"
     ]
    }
   ],
   "source": [
    "import random\n",
    "\n",
    "#task 1\n",
    "number = random.randint(0,10) #task 1 it doesn't work completely\n",
    "print(number)\n",
    "user_name = input(\"what is your name?\")\n",
    "print(\"Nice to meet you\" , user_name + \"!\")\n",
    "guess_number = input(\"Guess a number between 1 and 10.\")\n",
    "print(guess_number)\n",
    "\n",
    "if number == guess_number:\n",
    "    print(\"yupi! You just guessed the number\", number)\n",
    "else:\n",
    "    print(\"ups! Looks like you didn't guess the number.\")"
   ]
  },
  {
   "cell_type": "code",
   "execution_count": 4,
   "metadata": {},
   "outputs": [
    {
     "name": "stdout",
     "output_type": "stream",
     "text": [
      "What do you call a boomerang that won’t come back?\n"
     ]
    }
   ],
   "source": [
    "#task 2\n",
    "user_input = int(input(\"If you tell me your favotite number between 1 and 100 I can tell you a joke.\")) # Task2 it works\n",
    "if user_input <=0:\n",
    "    print(\"🙃 I can't tell you a joke. Your number must be greater than or equal to 1.\")\n",
    "elif user_input <=25:\n",
    "    print(\"What do you call a boomerang that won’t come back?\")\n",
    "elif user_input <=50:\n",
    "    print(\"What does a cloud wear under his raincoat?\")\n",
    "elif user_input <=75:\n",
    "    print(\"What time is it when the clock strikes 13?\")\n",
    "elif user_input <=100:    \n",
    "    print(\"Why did the dinosaur cross the road?\")\n",
    "else:\n",
    "    print(\"🙃 I can't tell you a joke. Your number must be less than or equal to 100.\")"
   ]
  },
  {
   "cell_type": "code",
   "execution_count": null,
   "metadata": {},
   "outputs": [],
   "source": [
    "# task 3\n",
    "print(\"Welcome to the Daniela Restaurant!\")"
   ]
  },
  {
   "cell_type": "code",
   "execution_count": 5,
   "metadata": {},
   "outputs": [
    {
     "name": "stdout",
     "output_type": "stream",
     "text": [
      "The value of the motorbike is: £ 2000 in year 2022 .\n",
      "The value of the motorbike is: £ 1800 in year 2023 .\n",
      "The value of the motorbike is: £ 1620 in year 2024 .\n",
      "The value of the motorbike is: £ 1458 in year 2025 .\n",
      "The value of the motorbike is: £ 1312 in year 2026 .\n",
      "The value of the motorbike is: £ 1180 in year 2027 .\n",
      "The value of the motorbike is: £ 1062 in year 2028 .\n"
     ]
    }
   ],
   "source": [
    "#task 4\n",
    "motorbike = 2000        # task 4 it works\n",
    "lose_every_year = 2022\n",
    "\n",
    "while motorbike >= 1000:\n",
    "    print(\"The value of the motorbike is:\", \"£\",int(motorbike) , \"in year\" ,lose_every_year,\".\")\n",
    "    motorbike -= (10*motorbike)/100\n",
    "    lose_every_year = lose_every_year + 1"
   ]
  },
  {
   "cell_type": "code",
   "execution_count": null,
   "metadata": {},
   "outputs": [],
   "source": [
    "# task 5\n",
    "first_number = int(input (\"Give me a number of your choice.\"))      #task 5 not complete\n",
    "second_number = int(input (\"Give me second number of your choice.\"))\n",
    "#operation = input (\"Enter A for add, S for subtract, M for multiplication, D for division, P for square (multiplication to the power of)  if you want to add, subtract, multiply, divide or calculate the square of your numbers.\")\n",
    "A = first_number + second_number\n",
    "print(A)\n",
    "S = first_number - second_number\n",
    "print(S)\n",
    "M = first_number * second_number\n",
    "print(M)\n",
    "D = first_number / second_number\n",
    "print(D)\n",
    "P = first_number ** second_number\n",
    "print(P)\n"
   ]
  },
  {
   "cell_type": "code",
   "execution_count": null,
   "metadata": {},
   "outputs": [],
   "source": [
    "first_number = int(input (\"Give me a number of your choice.\"))\n",
    "second_number = int(input (\"Give me second number of your choice.\"))\n",
    "operation = input (\"Enter A for add, S for subtract, M for multiplication, D for division, P for square (multiplication to the power of)  if you want to add, subtract, multiply, divide or calculate the square of your numbers.\")\n",
    "a = first_number + second_number\n",
    "s = first_number - second_number\n",
    "m = first_number * second_number\n",
    "d = first_number / second_number\n",
    "p = first_number ** second_number\n",
    "if operation == a:\n",
    "    print(\"The result is\", a)\n",
    "elif operation == s:\n",
    "    print(\"The result is\", s)\n",
    "elif operation == m:\n",
    "    print(\"The result is\", m)\n",
    "elif operation == d:\n",
    "    print(\"The result is\", d)\n",
    "elif operation == P:\n",
    "    print(\"The result is\", p)\n",
    "else:\n",
    "    print(\"Sorry, but your operation is not definite.\")"
   ]
  }
 ],
 "metadata": {
  "interpreter": {
   "hash": "aee8b7b246df8f9039afb4144a1f6fd8d2ca17a180786b69acc140d282b71a49"
  },
  "kernelspec": {
   "display_name": "Python 3.10.2 64-bit",
   "language": "python",
   "name": "python3"
  },
  "language_info": {
   "codemirror_mode": {
    "name": "ipython",
    "version": 3
   },
   "file_extension": ".py",
   "mimetype": "text/x-python",
   "name": "python",
   "nbconvert_exporter": "python",
   "pygments_lexer": "ipython3",
   "version": "3.10.2"
  },
  "orig_nbformat": 4
 },
 "nbformat": 4,
 "nbformat_minor": 2
}
